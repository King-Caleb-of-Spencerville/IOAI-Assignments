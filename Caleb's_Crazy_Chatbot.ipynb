{
  "nbformat": 4,
  "nbformat_minor": 0,
  "metadata": {
    "colab": {
      "provenance": [],
      "authorship_tag": "ABX9TyPsIoeVaS3Wu7WpRfSWMeFb",
      "include_colab_link": true
    },
    "kernelspec": {
      "name": "python3",
      "display_name": "Python 3"
    },
    "language_info": {
      "name": "python"
    }
  },
  "cells": [
    {
      "cell_type": "markdown",
      "metadata": {
        "id": "view-in-github",
        "colab_type": "text"
      },
      "source": [
        "<a href=\"https://colab.research.google.com/github/King-Caleb-of-Spencerville/IOAI-Assignments/blob/main/Caleb's_Crazy_Chatbot.ipynb\" target=\"_parent\"><img src=\"https://colab.research.google.com/assets/colab-badge.svg\" alt=\"Open In Colab\"/></a>"
      ]
    },
    {
      "cell_type": "code",
      "execution_count": null,
      "metadata": {
        "id": "ZHko8dWn7Qyw"
      },
      "outputs": [],
      "source": [
        "print(\"Welcome to Caleb's Crazy Chatbot! My name is Steve!\")\n",
        "name = input(\"Hello, what is your name? \")\n",
        "if name == \"ENS SPENCER C\":\n",
        "  print(\"Welcome master. Many people have used the chatbot. Well done Sir.\")\n",
        "elif name == \"Steve\":\n",
        "  print(\"MY NAME IS STEVE TOO!!!\")\n",
        "else:\n",
        "  print(\"Hello,\", name, \"I am the best chatbot in the world because I have a personality.\")\n",
        "topic = input(\"Type the topic you want to discuss from the following list: (Food, Games, Sports, Music, School, Movies) [Please type answers exactly as shown] \")\n",
        "\n",
        "if topic == \"Food\":\n",
        "  print(\"Interesting topic.\")\n",
        "  favouritefood = input(\"What is your favourite food?\")\n",
        "  if favouritefood == \"Pizza\":\n",
        "    print(\"That is so cool! THAT IS MY FAVOURITE FOOD TOO\")\n",
        "  else:\n",
        "    print(\"Interesting. My favourite food is pizza\")\n",
        "  otherfood = input(\"What else do you like to eat?\" )\n",
        "  print(\"That is a very interesting menu if I do say so myself. I like to eat chicken, fish and beef.\")\n",
        "  topic = input(\"Do you want to start a new topic now?\")\n",
        "\n",
        "if topic == \"Movies\":\n",
        "  print(\"Interesting topic.\")\n",
        "  favouritefood = input(\"What is your favourite movie/tv show?\")\n",
        "  if favouritefood == \"Avatar: Last Airbender\":\n",
        "    print(\"That is so cool! THAT IS MY FAVOURITE SHOW TOO\")\n",
        "  else:\n",
        "    print(\"Interesting. My favourite show is Avatar: Last Airbender\")\n",
        "  otherfood = input(\"What else do you like to watch?\" )\n",
        "  print(\"That is a very interesting tv playlist.\")\n",
        "  topic = input(\"Do you want to start a new topic now?\")\n",
        "\n",
        "elif topic == \"Games\":\n",
        "  print(\"Interesting topic.\")\n",
        "  favouritegame = input(\"What is you favourite game?\")\n",
        "  if favouritegame == \"FC 25\" or \"FC Mobile\":\n",
        "    print(\"That is so cool! THAT IS MY FAVOURITE GAME TOO\")\n",
        "  else:\n",
        "    print(\"Interesting choice. I'm going to try that game. My favourite game is FC 25 or FC Mobile\")\n",
        "  othergame = input(\"Are there any other games that you like?\")\n",
        "  print(\"Those games sound REALLY interesting. Will have to check out those. The only other game I play is Need For Speed.\")\n",
        "  topic = input(\"Do you want to start a new topic now?\")\n",
        "\n",
        "elif topic == \"Sports\":\n",
        "  print(\"Interesting topic.\")\n",
        "  favouritegame = input(\"What is you favourite sport?\")\n",
        "  if favouritegame == \"Football\" or \"Swimming\":\n",
        "    print(\"That is so cool! THAT IS MY FAVOURITE SPORT TOO\")\n",
        "  else:\n",
        "    print(\"Interesting choice. I'm going to try that sport. My favourite sport is football and swimming.\")\n",
        "  othersport = input(\"Are there any other sports that you like?\")\n",
        "  print(\"OOH, Interesting. I am going to do more research on those.\")\n",
        "  topic = input(\"Do you want to start a new topic now?\")\n",
        "\n",
        "elif topic == \"School\":\n",
        "  print(\"Interesting topic.\")\n",
        "  prepschool = input(\"What prep/primary school do you go to/went to?\")\n",
        "  print(\"Cool. I went to Stella Maris Prep, then I went to St. Andrew Prep School then I was home schooled.\")\n",
        "  highschoolQ = input(\"Did you/have you gone to high schol\")\n",
        "  if highschoolQ == \"Yes\":\n",
        "    highschool = input(\"What high school did you/do you go to?\")\n",
        "  if highschool == (\"Wolmer's Boys School\"):\n",
        "    print(\"ME TOO! I am in 1st form.\")\n",
        "  else:\n",
        "    print(\"Cool. I went to Wolmer's Boys School\")\n",
        "  if highschoolQ == \"No\":\n",
        "    print(\"OK!\")\n",
        "  topic = input(\"Do you want to start a new topic now?\")\n",
        "\n",
        "if topic == \"Music\":\n",
        "  print(\"Interesting topic.\")\n",
        "  favouritesong = input(\"What is your favourite song?\")\n",
        "  if favouritesong == \"I don't have one.\":\n",
        "    print(\"That is the same with me. I love listening to all sorts of songs.\")\n",
        "  else:\n",
        "    print(\"I have got to remember to listen to that one. I don't have a favourite. I just love music.\")\n",
        "  othersongs = input(\"Are there any other song you like?\")\n",
        "  if othersongs == \"No\":\n",
        "    print(\"That is ok!\")\n",
        "  else:\n",
        "    print(\"Those are some very interesting songs if I do say so myself.\")\n",
        "  topic = input(\"Do you want to start a new topic?\")\n",
        "\n",
        "if topic == \"Yes\" or \"yes\" or \"Affirmative\":\n",
        "  topic = input(\"Here are the topics Food, Games, Sports, Music, School\")\n",
        "\n",
        "if topic == \"No\" or \"no\" or \"Negative\":\n",
        "  print(\"Thank you for talking with me. If you have any suggestions please send them to +1 (876) 596-4489\")"
      ]
    }
  ]
}