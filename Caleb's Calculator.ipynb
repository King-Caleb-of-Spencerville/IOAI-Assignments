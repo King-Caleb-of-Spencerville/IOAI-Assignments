{
  "nbformat": 4,
  "nbformat_minor": 0,
  "metadata": {
    "colab": {
      "provenance": [],
      "authorship_tag": "ABX9TyNQa5kH0mmVuc4XI8Ul91jL",
      "include_colab_link": true
    },
    "kernelspec": {
      "name": "python3",
      "display_name": "Python 3"
    },
    "language_info": {
      "name": "python"
    }
  },
  "cells": [
    {
      "cell_type": "markdown",
      "metadata": {
        "id": "view-in-github",
        "colab_type": "text"
      },
      "source": [
        "<a href=\"https://colab.research.google.com/github/King-Caleb-of-Spencerville/IOAI-Assignments/blob/main/Caleb's%20Calculator.ipynb\" target=\"_parent\"><img src=\"https://colab.research.google.com/assets/colab-badge.svg\" alt=\"Open In Colab\"/></a>"
      ]
    },
    {
      "cell_type": "code",
      "execution_count": null,
      "metadata": {
        "id": "HRf2AmiE6yeA"
      },
      "outputs": [],
      "source": [
        "print(\"Welcome to Caleb's Cool Calculator!\")\n",
        "name = input(\"Please enter your name: \")\n",
        "\n",
        "print(\"Hello,\", name, \"I worked really hard on the calculator. I hope you enjoy it.\")\n",
        "operation = int(input(\"Please select you operation (Add = 1, subtraction = 2, multiplication = 3, divide = 4, modulous = 5): \"))\n",
        "if not(1 <= operation <= 5):\n",
        "  print(\"ERROR: Operation is not acceptable (Add = 1, subtraction = 2, multiplication = 3, divide = 4, modolus = 5)\")\n",
        "else:\n",
        "  num1 = float(input(\"What is the first number you want to calculate? \"))\n",
        "  num2 = float(input(\"What is the second number you want to calculate? \"))\n",
        "\n",
        "  if operation == 1:\n",
        "    answer = num1 + num2\n",
        "  elif operation == 2:\n",
        "    answer = num1 - num2\n",
        "  elif operation == 3:\n",
        "    answer = num1 * num2\n",
        "  elif operation == 4:\n",
        "    answer = num1 / num2\n",
        "  elif operation == 5:\n",
        "    answer = num1 % num2\n",
        "\n",
        "  print(\"The answer is:\", answer)"
      ]
    }
  ]
}