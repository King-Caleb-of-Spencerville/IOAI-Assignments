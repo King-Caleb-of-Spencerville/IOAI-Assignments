{
  "nbformat": 4,
  "nbformat_minor": 0,
  "metadata": {
    "colab": {
      "provenance": [],
      "authorship_tag": "ABX9TyOTJ8YI2kfvH0Gv4blxmAmV",
      "include_colab_link": true
    },
    "kernelspec": {
      "name": "python3",
      "display_name": "Python 3"
    },
    "language_info": {
      "name": "python"
    }
  },
  "cells": [
    {
      "cell_type": "markdown",
      "metadata": {
        "id": "view-in-github",
        "colab_type": "text"
      },
      "source": [
        "<a href=\"https://colab.research.google.com/github/King-Caleb-of-Spencerville/IOAI-Assignments/blob/main/Caleb's_Mad_Madlib.ipynb\" target=\"_parent\"><img src=\"https://colab.research.google.com/assets/colab-badge.svg\" alt=\"Open In Colab\"/></a>"
      ]
    },
    {
      "cell_type": "code",
      "execution_count": null,
      "metadata": {
        "id": "7HgNzycL7oG6"
      },
      "outputs": [],
      "source": [
        "def get_pronouns(gender):\n",
        "    if gender.lower() == \"male\":\n",
        "        return \"he\", \"him\", \"himself\", \"his\", \"his\"\n",
        "    else:\n",
        "        return \"she\", \"her\", \"herself\", \"her\", \"hers\"\n",
        "\n",
        "def run_madlib(name1, name2, padjective, wake_time):\n",
        "    print(\"--- Your MadLib Story ---\")\n",
        "    print(f\"At exactly {wake_time}, {name1} leapt out of bed with a jolt. Today was the day of the Great Jellybean Hunt! {padjective.capitalize()} best friend, {name2}, was already outside, bouncing with excitement and wearing a helmet made of popcorn. Together, they raced across the backyard, dodged a flock of giggling ducks, and climbed the mystical Couch Mountain. At the top, nestled between two cushions, was the glittering treasure chest… filled not with jellybeans, but a talking potato wearing sunglasses. The adventure had just begun.\")\n",
        "    print(\"--- The End ---\")\n",
        "\n",
        "\n",
        "print(\"Welcome to Caleb's Mad MadLib Generator!\")\n",
        "print(\"Let us start the MadLib!\")\n",
        "\n",
        "charactername1 = input(\"Please input your first character's name: \")\n",
        "charactername2 = input(\"Please input your second character's name: \")\n",
        "charactergender = input(\"Please input your character's gender (Male/Female): \")\n",
        "wakeuptime = input(\"When did the character wake up?: \")\n",
        "\n",
        "Spronoun, Opronoun, Rpronoun, Padjective, Ppronoun = get_pronouns(charactergender)\n",
        "\n",
        "run_madlib(charactername1, charactername2, Padjective, wakeuptime)"
      ]
    }
  ]
}